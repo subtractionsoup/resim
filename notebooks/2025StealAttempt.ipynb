{
 "cells": [
  {
   "cell_type": "code",
   "execution_count": 765,
   "metadata": {},
   "outputs": [],
   "source": [
    "import load\n",
    "\n",
    "df = load.data(\"steal_attempt\", season=13, roles = (\"batter\", \"pitcher\", \"fielder\", \"relevant_runner\"))\n",
    "\n",
    "\n",
    "df = df[df['event_type']==\"StealAttempt2\"]\n",
    "\n",
    "df[\"laser_scaled\"] = load.player_attribute(df, 'relevant_runner', 'laserlikeness', vibes=True, mods=True, items=True, broken_items=True)\n",
    "df[\"thirst_scaled\"] = load.player_attribute(df, 'relevant_runner', 'baseThirst', vibes=True, mods=True, items=True, broken_items=True)\n",
    "\n",
    "df[\"laser\"] = load.player_attribute(df, 'relevant_runner', 'laserlikeness', vibes=False, mods=False, items=True, broken_items=True)\n",
    "df[\"thirst\"] = load.player_attribute(df, 'relevant_runner', 'baseThirst', vibes=False, mods=False, items=True, broken_items=True)\n",
    "\n",
    "df[\"pwatch_scaled\"] = load.player_attribute(df, 'pitcher', 'watchfulness', vibes=False, mods=False, items=True, broken_items=True)\n",
    "\n",
    "df[\"fwatch_scaled\"] = load.player_attribute(df, 'fielder', 'watchfulness', vibes=True, mods=True, items=True, broken_items=True)\n",
    "\n",
    "df[\"elongation\"] = load.stadium_attribute(df, 'elongation', center=False)\n",
    "df[\"inconvenience\"] = load.stadium_attribute(df, 'inconvenience', center=False)"
   ]
  },
  {
   "cell_type": "code",
   "execution_count": 766,
   "metadata": {},
   "outputs": [],
   "source": [
    "import glob\n",
    "\n",
    "import pandas as pd\n",
    "import matplotlib.pyplot as plt\n",
    "import numpy as np\n",
    "from matplotlib.markers import CARETLEFTBASE, CARETRIGHTBASE\n",
    "from csv_dtypes import column_dtypes\n",
    "\n",
    "from sklearn.preprocessing import StandardScaler\n",
    "from sklearn.metrics import confusion_matrix\n",
    "from sklearn.metrics import classification_report\n",
    "from sklearn import svm, linear_model\n",
    "\n",
    "pd.set_option(\"display.max_rows\", 60)  # default 60\n",
    "pd.set_option(\"display.max_columns\", 20)  # default 20"
   ]
  },
  {
   "cell_type": "code",
   "execution_count": 767,
   "metadata": {},
   "outputs": [
    {
     "data": {
      "text/plain": [
       "20584"
      ]
     },
     "execution_count": 767,
     "metadata": {},
     "output_type": "execute_result"
    }
   ],
   "source": [
    "df = df[(df[\"pitching_team_hype\"] == 0) & (df[\"batting_team_hype\"] == 0)]\n",
    "dfc = df.copy()\n",
    "for exclude_mod in [\"EARLY_TO_PARTY\", \"LATE_TO_PARTY\"]:\n",
    "    dfc = dfc[~dfc[\"pitcher_mods\"].astype(str).str.contains(exclude_mod)]\n",
    "    dfc = dfc[~dfc[\"pitching_team_mods\"].astype(str).str.contains(exclude_mod)]\n",
    "for exclude_mod in [\"EARLY_TO_PARTY\", \"LATE_TO_PARTY\", \"OVERPERFORMING\", ]:\n",
    "    dfc = dfc[~dfc[\"batting_team_mods\"].astype(str).str.contains(exclude_mod)]\n",
    "for exclude_mod in [\"UNDEFINED\"]:\n",
    "    dfc = dfc[~dfc[\"fielder_mods\"].astype(str).str.contains(exclude_mod)]\n",
    "for exclude_mod in []:\n",
    "    dfc = dfc[~dfc[\"batter_mods\"].astype(str).str.contains(exclude_mod)]\n",
    "for exclude_mod in [\"UNDEFINED\"]:\n",
    "    dfc = dfc[~dfc[\"relevant_runner_mods\"].astype(str).str.contains(exclude_mod)]\n",
    "dfc.loc[dfc[\"pitcher_mods\"].astype(str).str.contains(\"SCATTERED\"),\"pitcher_vibes\"] = 0\n",
    "dfc.loc[dfc[\"batter_mods\"].astype(str).str.contains(\"SCATTERED\"),\"batter_vibes\"] = 0\n",
    "dfc.loc[dfc[\"fielder_mods\"].astype(str).str.contains(\"SCATTERED\"),\"fielder_vibes\"] = 0\n",
    "\n",
    "len(dfc)"
   ]
  },
  {
   "cell_type": "code",
   "execution_count": 768,
   "metadata": {},
   "outputs": [],
   "source": [
    "dfc[\"laser2\"] = (dfc[\"laser\"])**2\n",
    "dfc[\"lasersq_thirst\"] = (dfc[\"laser2\"] * (1 + 0.2 * dfc[\"relevant_runner_vibes\"]) * dfc[\"thirst_scaled\"])**3\n",
    "\n",
    "dfc[\"watch\"]  = (3*dfc[\"pwatch_scaled\"] + dfc[\"fwatch_scaled\"])\n",
    "\n",
    "dfc[\"bhype\"] = dfc[\"batting_team_hype\"]\n",
    "dfc[\"phype\"] = dfc[\"pitching_team_hype\"] \n",
    "\n",
    "dfc[\"hypediff\"] = (dfc[\"phype\"] - dfc[\"bhype\"])\n"
   ]
  },
  {
   "cell_type": "code",
   "execution_count": 799,
   "metadata": {},
   "outputs": [
    {
     "name": "stdout",
     "output_type": "stream",
     "text": [
      "[[20469     0]\n",
      " [    0    92]]\n",
      "0 outliers\n",
      "1.0\n",
      "0.09\n"
     ]
    },
    {
     "data": {
      "text/plain": [
       "[(1.0, 'roll')]"
      ]
     },
     "execution_count": 799,
     "metadata": {},
     "output_type": "execute_result"
    }
   ],
   "source": [
    "X = dfc[\n",
    "    [\n",
    "        \"roll\",\n",
    "        \"passed\",\n",
    "        #\"thirst_scaled\",\n",
    "        #\"laser_scaled\",\n",
    "        \"fwatch_scaled\",\n",
    "        \"pwatch_scaled\",\n",
    "        #\"watch\",\n",
    "        \"lasersq_thirst\",\n",
    "        #\"laser2\",\n",
    "        \"elongation\",\n",
    "        \"inconvenience\",\n",
    "        #\"laser3\"\n",
    "\n",
    "    ]\n",
    "].copy()\n",
    "X = X[X[\"roll\"] > 0.001]\n",
    "#X = X[~X[\"lasersq_thirst\"].isna()]\n",
    "y = X[\"passed\"]\n",
    "X = X.drop([\"passed\"], axis=1)\n",
    "\n",
    "pin_intercept = 0.09\n",
    "pins = [ (0.0013, \"lasersq_thirst\"),\n",
    "        (-0.02, \"fwatch_scaled\"),\n",
    "        (-0.06, \"pwatch_scaled\"),\n",
    "        (-0.06, \"elongation\"),\n",
    "        (-0.0385, \"inconvenience\")\n",
    "\n",
    "]\n",
    "\n",
    "for val, var in pins:\n",
    "    X[\"roll\"] -= X[var] * val\n",
    "    X = X.drop(var, axis=1)\n",
    "\n",
    "sc = StandardScaler(with_mean=False)\n",
    "X2 = sc.fit_transform(X)\n",
    "if pin_intercept is not None:\n",
    "    X2[:, 0] -= pin_intercept / sc.scale_[0]\n",
    "\n",
    "trainedsvm = svm.LinearSVC(\n",
    "    dual=False, max_iter=10000000, C=100000000, tol=1e-15, fit_intercept=pin_intercept is None\n",
    ").fit(X2, y)\n",
    "predictionsvm = trainedsvm.predict(X2)\n",
    "print(confusion_matrix(y, predictionsvm))\n",
    "print(confusion_matrix(y, predictionsvm)[0, 1] + confusion_matrix(y, predictionsvm)[1, 0], \"outliers\")\n",
    "print(trainedsvm.score(X2, y))\n",
    "\n",
    "coef = np.true_divide(trainedsvm.coef_, sc.scale_)\n",
    "coef_scaled = coef / coef[0, 0]\n",
    "coef_list = coef_scaled.tolist()[0]\n",
    "\n",
    "intercept = trainedsvm.intercept_   #- np.dot(coef, sc.mean_)\n",
    "intercept_scaled = -(intercept / coef[0, 0])[0] if pin_intercept is None else pin_intercept\n",
    "print(intercept_scaled)\n",
    "sorted(zip(coef_list, X.columns), key=lambda x: abs(x[0]), reverse=True)"
   ]
  },
  {
   "cell_type": "code",
   "execution_count": null,
   "metadata": {},
   "outputs": [],
   "source": [
    "#Works for Season 12, Home Steals\n",
    "#dfc[\"threshold\"] = 0.04 + 0.0016*dfc[\"lasersq_thirst\"] - 0.02*dfc[\"fwatch_scaled\"] - 0.06*dfc[\"pwatch_scaled\"]\n",
    "\n",
    "#Works for Season 14, Home Steals\n",
    "#dfc[\"threshold\"] = 0.09 + 0.0013*dfc[\"lasersq_thirst\"] - 0.02*dfc[\"fwatch_scaled\"] - 0.06*dfc[\"pwatch_scaled\"] - 0.06*dfc[\"elongation\"] - 0.0385*dfc[\"inconvenience\"]\n",
    "\n"
   ]
  },
  {
   "cell_type": "code",
   "execution_count": 771,
   "metadata": {},
   "outputs": [
    {
     "ename": "KeyError",
     "evalue": "'threshold'",
     "output_type": "error",
     "traceback": [
      "\u001b[1;31m---------------------------------------------------------------------------\u001b[0m",
      "\u001b[1;31mKeyError\u001b[0m                                  Traceback (most recent call last)",
      "File \u001b[1;32mc:\\Users\\Shaun\\AppData\\Local\\Programs\\Python\\Python312\\Lib\\site-packages\\pandas\\core\\indexes\\base.py:3791\u001b[0m, in \u001b[0;36mIndex.get_loc\u001b[1;34m(self, key)\u001b[0m\n\u001b[0;32m   3790\u001b[0m \u001b[38;5;28;01mtry\u001b[39;00m:\n\u001b[1;32m-> 3791\u001b[0m     \u001b[38;5;28;01mreturn\u001b[39;00m \u001b[38;5;28;43mself\u001b[39;49m\u001b[38;5;241;43m.\u001b[39;49m\u001b[43m_engine\u001b[49m\u001b[38;5;241;43m.\u001b[39;49m\u001b[43mget_loc\u001b[49m\u001b[43m(\u001b[49m\u001b[43mcasted_key\u001b[49m\u001b[43m)\u001b[49m\n\u001b[0;32m   3792\u001b[0m \u001b[38;5;28;01mexcept\u001b[39;00m \u001b[38;5;167;01mKeyError\u001b[39;00m \u001b[38;5;28;01mas\u001b[39;00m err:\n",
      "File \u001b[1;32mindex.pyx:152\u001b[0m, in \u001b[0;36mpandas._libs.index.IndexEngine.get_loc\u001b[1;34m()\u001b[0m\n",
      "File \u001b[1;32mindex.pyx:181\u001b[0m, in \u001b[0;36mpandas._libs.index.IndexEngine.get_loc\u001b[1;34m()\u001b[0m\n",
      "File \u001b[1;32mpandas\\_libs\\hashtable_class_helper.pxi:7080\u001b[0m, in \u001b[0;36mpandas._libs.hashtable.PyObjectHashTable.get_item\u001b[1;34m()\u001b[0m\n",
      "File \u001b[1;32mpandas\\_libs\\hashtable_class_helper.pxi:7088\u001b[0m, in \u001b[0;36mpandas._libs.hashtable.PyObjectHashTable.get_item\u001b[1;34m()\u001b[0m\n",
      "\u001b[1;31mKeyError\u001b[0m: 'threshold'",
      "\nThe above exception was the direct cause of the following exception:\n",
      "\u001b[1;31mKeyError\u001b[0m                                  Traceback (most recent call last)",
      "Cell \u001b[1;32mIn[771], line 3\u001b[0m\n\u001b[0;32m      1\u001b[0m x_val \u001b[38;5;241m=\u001b[39m \u001b[38;5;124m\"\u001b[39m\u001b[38;5;124mthreshold\u001b[39m\u001b[38;5;124m\"\u001b[39m\n\u001b[0;32m      2\u001b[0m fig, ax \u001b[38;5;241m=\u001b[39m plt\u001b[38;5;241m.\u001b[39msubplots(\u001b[38;5;241m1\u001b[39m, figsize\u001b[38;5;241m=\u001b[39m(\u001b[38;5;241m10\u001b[39m, \u001b[38;5;241m6\u001b[39m))\n\u001b[1;32m----> 3\u001b[0m ax\u001b[38;5;241m.\u001b[39mscatter(\u001b[43mdfc\u001b[49m\u001b[43m[\u001b[49m\u001b[38;5;241;43m~\u001b[39;49m\u001b[43mdfc\u001b[49m\u001b[43m[\u001b[49m\u001b[38;5;124;43m'\u001b[39;49m\u001b[38;5;124;43mpassed\u001b[39;49m\u001b[38;5;124;43m'\u001b[39;49m\u001b[43m]\u001b[49m\u001b[43m]\u001b[49m\u001b[43m[\u001b[49m\u001b[43mx_val\u001b[49m\u001b[43m]\u001b[49m, dfc[\u001b[38;5;241m~\u001b[39mdfc[\u001b[38;5;124m'\u001b[39m\u001b[38;5;124mpassed\u001b[39m\u001b[38;5;124m'\u001b[39m]][\u001b[38;5;124m\"\u001b[39m\u001b[38;5;124mroll\u001b[39m\u001b[38;5;124m\"\u001b[39m], color\u001b[38;5;241m=\u001b[39m\u001b[38;5;124m\"\u001b[39m\u001b[38;5;124mred\u001b[39m\u001b[38;5;124m\"\u001b[39m,\n\u001b[0;32m      4\u001b[0m            label\u001b[38;5;241m=\u001b[39m\u001b[38;5;124m\"\u001b[39m\u001b[38;5;124mNoAttempt\u001b[39m\u001b[38;5;124m\"\u001b[39m, marker\u001b[38;5;241m=\u001b[39mCARETRIGHTBASE)\n\u001b[0;32m      5\u001b[0m ax\u001b[38;5;241m.\u001b[39mscatter(dfc[dfc[\u001b[38;5;124m'\u001b[39m\u001b[38;5;124mpassed\u001b[39m\u001b[38;5;124m'\u001b[39m]][x_val], dfc[dfc[\u001b[38;5;124m'\u001b[39m\u001b[38;5;124mpassed\u001b[39m\u001b[38;5;124m'\u001b[39m]][\u001b[38;5;124m\"\u001b[39m\u001b[38;5;124mroll\u001b[39m\u001b[38;5;124m\"\u001b[39m], color\u001b[38;5;241m=\u001b[39m\u001b[38;5;124m\"\u001b[39m\u001b[38;5;124mblue\u001b[39m\u001b[38;5;124m\"\u001b[39m,\n\u001b[0;32m      6\u001b[0m            label\u001b[38;5;241m=\u001b[39m\u001b[38;5;124m\"\u001b[39m\u001b[38;5;124mAttempt\u001b[39m\u001b[38;5;124m\"\u001b[39m, marker\u001b[38;5;241m=\u001b[39mCARETLEFTBASE)\n\u001b[0;32m      7\u001b[0m ax\u001b[38;5;241m.\u001b[39mplot([\u001b[38;5;241m0\u001b[39m, \u001b[38;5;241m1\u001b[39m], [\u001b[38;5;241m0\u001b[39m, \u001b[38;5;241m1\u001b[39m])\n",
      "File \u001b[1;32mc:\\Users\\Shaun\\AppData\\Local\\Programs\\Python\\Python312\\Lib\\site-packages\\pandas\\core\\frame.py:3893\u001b[0m, in \u001b[0;36mDataFrame.__getitem__\u001b[1;34m(self, key)\u001b[0m\n\u001b[0;32m   3891\u001b[0m \u001b[38;5;28;01mif\u001b[39;00m \u001b[38;5;28mself\u001b[39m\u001b[38;5;241m.\u001b[39mcolumns\u001b[38;5;241m.\u001b[39mnlevels \u001b[38;5;241m>\u001b[39m \u001b[38;5;241m1\u001b[39m:\n\u001b[0;32m   3892\u001b[0m     \u001b[38;5;28;01mreturn\u001b[39;00m \u001b[38;5;28mself\u001b[39m\u001b[38;5;241m.\u001b[39m_getitem_multilevel(key)\n\u001b[1;32m-> 3893\u001b[0m indexer \u001b[38;5;241m=\u001b[39m \u001b[38;5;28;43mself\u001b[39;49m\u001b[38;5;241;43m.\u001b[39;49m\u001b[43mcolumns\u001b[49m\u001b[38;5;241;43m.\u001b[39;49m\u001b[43mget_loc\u001b[49m\u001b[43m(\u001b[49m\u001b[43mkey\u001b[49m\u001b[43m)\u001b[49m\n\u001b[0;32m   3894\u001b[0m \u001b[38;5;28;01mif\u001b[39;00m is_integer(indexer):\n\u001b[0;32m   3895\u001b[0m     indexer \u001b[38;5;241m=\u001b[39m [indexer]\n",
      "File \u001b[1;32mc:\\Users\\Shaun\\AppData\\Local\\Programs\\Python\\Python312\\Lib\\site-packages\\pandas\\core\\indexes\\base.py:3798\u001b[0m, in \u001b[0;36mIndex.get_loc\u001b[1;34m(self, key)\u001b[0m\n\u001b[0;32m   3793\u001b[0m     \u001b[38;5;28;01mif\u001b[39;00m \u001b[38;5;28misinstance\u001b[39m(casted_key, \u001b[38;5;28mslice\u001b[39m) \u001b[38;5;129;01mor\u001b[39;00m (\n\u001b[0;32m   3794\u001b[0m         \u001b[38;5;28misinstance\u001b[39m(casted_key, abc\u001b[38;5;241m.\u001b[39mIterable)\n\u001b[0;32m   3795\u001b[0m         \u001b[38;5;129;01mand\u001b[39;00m \u001b[38;5;28many\u001b[39m(\u001b[38;5;28misinstance\u001b[39m(x, \u001b[38;5;28mslice\u001b[39m) \u001b[38;5;28;01mfor\u001b[39;00m x \u001b[38;5;129;01min\u001b[39;00m casted_key)\n\u001b[0;32m   3796\u001b[0m     ):\n\u001b[0;32m   3797\u001b[0m         \u001b[38;5;28;01mraise\u001b[39;00m InvalidIndexError(key)\n\u001b[1;32m-> 3798\u001b[0m     \u001b[38;5;28;01mraise\u001b[39;00m \u001b[38;5;167;01mKeyError\u001b[39;00m(key) \u001b[38;5;28;01mfrom\u001b[39;00m \u001b[38;5;21;01merr\u001b[39;00m\n\u001b[0;32m   3799\u001b[0m \u001b[38;5;28;01mexcept\u001b[39;00m \u001b[38;5;167;01mTypeError\u001b[39;00m:\n\u001b[0;32m   3800\u001b[0m     \u001b[38;5;66;03m# If we have a listlike key, _check_indexing_error will raise\u001b[39;00m\n\u001b[0;32m   3801\u001b[0m     \u001b[38;5;66;03m#  InvalidIndexError. Otherwise we fall through and re-raise\u001b[39;00m\n\u001b[0;32m   3802\u001b[0m     \u001b[38;5;66;03m#  the TypeError.\u001b[39;00m\n\u001b[0;32m   3803\u001b[0m     \u001b[38;5;28mself\u001b[39m\u001b[38;5;241m.\u001b[39m_check_indexing_error(key)\n",
      "\u001b[1;31mKeyError\u001b[0m: 'threshold'"
     ]
    },
    {
     "data": {
      "image/png": "[encoded data removed]",
      "text/plain": [
       "<Figure size 1000x600 with 1 Axes>"
      ]
     },
     "metadata": {},
     "output_type": "display_data"
    }
   ],
   "source": [
    "x_val = \"threshold\"\n",
    "fig, ax = plt.subplots(1, figsize=(10, 6))\n",
    "ax.scatter(dfc[~dfc['passed']][x_val], dfc[~dfc['passed']][\"roll\"], color=\"red\",\n",
    "           label=\"NoAttempt\", marker=CARETRIGHTBASE)\n",
    "ax.scatter(dfc[dfc['passed']][x_val], dfc[dfc['passed']][\"roll\"], color=\"blue\",\n",
    "           label=\"Attempt\", marker=CARETLEFTBASE)\n",
    "ax.plot([0, 1], [0, 1])\n",
    "ax.set_xlabel(x_val)\n",
    "ax.set_ylabel('roll')\n",
    "ax.set_title(\"Steal Attempts\")\n",
    "ax.set_xlim([-0.1, 1])\n",
    "ax.set_ylim([0.0, 1])\n",
    "ax.legend()"
   ]
  },
  {
   "cell_type": "code",
   "execution_count": null,
   "metadata": {},
   "outputs": [
    {
     "data": {
      "text/html": [
       "<div>\n",
       "<style scoped>\n",
       "    .dataframe tbody tr th:only-of-type {\n",
       "        vertical-align: middle;\n",
       "    }\n",
       "\n",
       "    .dataframe tbody tr th {\n",
       "        vertical-align: top;\n",
       "    }\n",
       "\n",
       "    .dataframe thead th {\n",
       "        text-align: right;\n",
       "    }\n",
       "</style>\n",
       "<table border=\"1\" class=\"dataframe\">\n",
       "  <thead>\n",
       "    <tr style=\"text-align: right;\">\n",
       "      <th></th>\n",
       "      <th>offset</th>\n",
       "      <th>event_type</th>\n",
       "      <th>roll</th>\n",
       "      <th>threshold</th>\n",
       "      <th>relevant_runner_name</th>\n",
       "      <th>fielder_mods</th>\n",
       "      <th>relevant_runner_mods</th>\n",
       "      <th>batting_team_mods</th>\n",
       "      <th>pitching_team_mods</th>\n",
       "      <th>day</th>\n",
       "      <th>game_id</th>\n",
       "      <th>play_count</th>\n",
       "    </tr>\n",
       "  </thead>\n",
       "  <tbody>\n",
       "    <tr>\n",
       "      <th>9737</th>\n",
       "      <td>-0.001808</td>\n",
       "      <td>StealAttempt2</td>\n",
       "      <td>0.007820</td>\n",
       "      <td>0.009629</td>\n",
       "      <td>Engine Eberhardt</td>\n",
       "      <td>SMOOTH</td>\n",
       "      <td></td>\n",
       "      <td>POPCORN_PAYOUTS</td>\n",
       "      <td>BASE_INSTINCTS</td>\n",
       "      <td>10</td>\n",
       "      <td>b63333a3-f830-4bff-a9ee-8193b85cf18c</td>\n",
       "      <td>320</td>\n",
       "    </tr>\n",
       "    <tr>\n",
       "      <th>79978</th>\n",
       "      <td>0.000098</td>\n",
       "      <td>StealAttempt2</td>\n",
       "      <td>0.016492</td>\n",
       "      <td>0.016394</td>\n",
       "      <td>Eizabeth Guerra</td>\n",
       "      <td></td>\n",
       "      <td></td>\n",
       "      <td></td>\n",
       "      <td>PARTY_TIME;BIRD_SEED</td>\n",
       "      <td>93</td>\n",
       "      <td>7fac7adb-e35a-42ae-b84f-04641e2993e4</td>\n",
       "      <td>225</td>\n",
       "    </tr>\n",
       "  </tbody>\n",
       "</table>\n",
       "</div>"
      ],
      "text/plain": [
       "         offset     event_type      roll  threshold relevant_runner_name  \\\n",
       "9737  -0.001808  StealAttempt2  0.007820   0.009629     Engine Eberhardt   \n",
       "79978  0.000098  StealAttempt2  0.016492   0.016394      Eizabeth Guerra   \n",
       "\n",
       "      fielder_mods relevant_runner_mods batting_team_mods  \\\n",
       "9737        SMOOTH                        POPCORN_PAYOUTS   \n",
       "79978                                                       \n",
       "\n",
       "         pitching_team_mods  day                               game_id  \\\n",
       "9737         BASE_INSTINCTS   10  b63333a3-f830-4bff-a9ee-8193b85cf18c   \n",
       "79978  PARTY_TIME;BIRD_SEED   93  7fac7adb-e35a-42ae-b84f-04641e2993e4   \n",
       "\n",
       "       play_count  \n",
       "9737          320  \n",
       "79978         225  "
      ]
     },
     "execution_count": 699,
     "metadata": {},
     "output_type": "execute_result"
    },
    {
     "data": {
      "image/png": "[encoded data removed]",
      "text/plain": [
       "<Figure size 640x480 with 1 Axes>"
      ]
     },
     "metadata": {},
     "output_type": "display_data"
    }
   ],
   "source": [
    "dfc[\"offset\"] = dfc[\"roll\"] - dfc[\"threshold\"]\n",
    "outliers = dfc[(dfc[\"passed\"] & (dfc[\"offset\"] > 0)) | (~dfc[\"passed\"] & (dfc[\"offset\"] < 0))]\n",
    "outliers = outliers[outliers[\"roll\"] > 0.001]\n",
    "\n",
    "\n",
    "fig, ax = plt.subplots(1)\n",
    "x_val = \"laser_scaled\"\n",
    "y_val = \"offset\"\n",
    "ax.scatter(outliers[~outliers['passed']][x_val], outliers[~outliers['passed']][y_val], color=\"red\", label=\"NoAttempt\")\n",
    "ax.scatter(outliers[outliers['passed']][x_val], outliers[outliers['passed']][y_val], color=\"blue\", label=\"Attempt\")\n",
    "ax.set_xlabel(x_val)\n",
    "ax.set_ylabel(y_val)\n",
    "ax.legend()\n",
    "\n",
    "table = outliers\n",
    "table[[\"offset\", \"event_type\",\n",
    "       \"roll\", \"threshold\", \n",
    "       \"relevant_runner_name\", \"fielder_mods\", \"relevant_runner_mods\", \"batting_team_mods\", \"pitching_team_mods\",\n",
    "       \"day\",  \"game_id\", \"play_count\"]].sort_values('offset')\n"
   ]
  },
  {
   "cell_type": "code",
   "execution_count": null,
   "metadata": {},
   "outputs": [
    {
     "name": "stdout",
     "output_type": "stream",
     "text": [
      "0.1263447431826405\n",
      "0.0010041574522214\n"
     ]
    }
   ],
   "source": [
    "print(dfc[dfc[\"passed\"]][\"roll\"].max())\n",
    "print(dfc[~dfc[\"passed\"]][\"roll\"].min())"
   ]
  }
 ],
 "metadata": {
  "kernelspec": {
   "display_name": "Python 3",
   "language": "python",
   "name": "python3"
  },
  "language_info": {
   "codemirror_mode": {
    "name": "ipython",
    "version": 3
   },
   "file_extension": ".py",
   "mimetype": "text/x-python",
   "name": "python",
   "nbconvert_exporter": "python",
   "pygments_lexer": "ipython3",
   "version": "3.12.1"
  },
  "vscode": {
   "interpreter": {
    "hash": "d6257161a466d75fdcac7f8f0f3e95e00d99904fe6e4750a55443add5c7bd56c"
   }
  }
 },
 "nbformat": 4,
 "nbformat_minor": 1
}
